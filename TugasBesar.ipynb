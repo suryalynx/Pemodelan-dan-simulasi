{
 "cells": [
  {
   "attachments": {},
   "cell_type": "markdown",
   "metadata": {},
   "source": [
    "<div style=\"text-align:center\">\n",
    "    <h1>TUGAS BESAR PEMODELAN DAN SIMULASI</h1>\n",
    "    <h1>KLASIFIKASI KEMISKINAN DENGAN TEORI NAIVE BAYES CLASSIFIER</h1>\n",
    "</div>\n",
    "<br><br>\n",
    "<br><br>\n",
    "<div>\n",
    "    <p align = 'center'>\n",
    "        <img src=\"https://unram.ac.id/wp-content/uploads/2018/09/UNRAM-LOGO-FIX-STATUTA-.png\" alt=\"Foto\" width=\"500\" height=\"500\">\n",
    "    </p>\n",
    "</div>\n",
    "<br><br>\n",
    "<br><br>\n",
    "<div style= \"text-align:center\">\n",
    "    <h2>Disusun Oleh:</h2>\n",
    "    <h2>Surya Herdianto Utomo (F1D021068)</h2>\n",
    "    <h2>Faras Ayuandira (F1D021088)</h2>\n",
    "    <h2>Lalu Abdul Gofururrohiem (F1D021098)</h2>\n",
    "</div>\n",
    "<br><br><br><br>\n",
    "<br><br><br><br>\n",
    "<div style= \"text-align:center\">\n",
    "    <h2>UNIVERSITAS MATARAM</h2>\n",
    "    <h2>FAKULTAS TEKNIK</h2>\n",
    "    <h2>TEKNIK INFORMATIKA</h2>\n",
    "    <h2>2023/2024</h2>\n",
    "</div>\n",
    "<br><br><br><br>\n",
    "<br><br><br><br>\n",
    "<br><br><br><br>\n",
    "<br><br><br><br>"
   ]
  },
  {
   "attachments": {},
   "cell_type": "markdown",
   "metadata": {},
   "source": [
    "# LATAR BELAKANG"
   ]
  },
  {
   "attachments": {},
   "cell_type": "markdown",
   "metadata": {},
   "source": [
    "<div style = \"text-align : justify\">\n",
    "    <p>\n",
    "        Semua Masyarakat miskin merupakan suatu kondisi dimana fisik masyarakat yang tidak memiliki akses ke prasarana dan sarana dasar lingkungan yang memadai, dengan kualitas perumahan dan pemukiman yang jauh dibawah standar kelayakan serta mata pencaharian yang tidak menentu yang mencakup serluruh mulitidimensi. Penggolongan kemikskinan didasarkan pada suatu standar tertentu yaitu dengan membandingkan tingkat pendapatan orang atau keluarga dengan tingkat pendapatan yang diperlukan untuk memenuhi kebutuhan pokok minimum. Wilayah Kecamatan Tibawa yang terbagi ke dalam 16 Desa, dan Kecamatan Tibawa termasuk Kecamatan yang memiliki penduduk yang masih di bawah taraf hidupnya, yang biasa dikatakan masyarakat miskin.\n",
    "    </p>\n",
    "    <p>\n",
    "        Permasalahan utama dalam upaya pengurangan kemiskinan saat ini terkait dengan adanya fakta bahwa pertumbuhan ekonomi tidak tersebar secara merata di seluruh wilayah Indonesia, khususnya di Kecamatan Tibawa, ini dibuktikan dengan tingginya perbedaan pendapatan antar daerah. Selain itu kemiskinan juga merupakan sebuah hubungan sebab akibat (kausalitas melingkar) artinya tingkat kemiskinan yang tinggi terjadi karena rendahnya pendapatan perkapita, pendapatan perkapita yang rendah terjadi karena investasi perkapita yang juga rendah. Salah satu metode Data Mining yang bisa digunakan adalah Association rule discovery merupakan tugas yang sama dalam data mining, dengan pengecualian bahwa tujuan utama dari klasifikasi adalah prediksi label kelas, sedangkan asosiasi aturan penemuan menggambarkan korelasi antara item dalam database transaksional. \n",
    "    </p>\n",
    "    <p>\n",
    "        Metode yang akan digunakan adalah metode Naive Bayes Classifier, yang merupakan salah satu teknik pengklasifikasian dalam data mining. Dimana akan dilakukan analisis untuk memperoleh informasi terhadap data lama tingkat kemiskinan. Diharapkan dari penelitian yang dilakukan terhadap sampel data penduduk miskin tersebut dapat diperoleh suatu informasi yang bisa membantu pihak kecamatan untuk merancang strategi dalam meningkatkan kesejahteraan masyarakat. Penelitian akan membuat aplikasi klasifikasi berdasarkan data penduduk miskin yang diperoleh dari Kecamatan Tibawa tahun 2015 dengan menggunakan teknik data mining.Variabel inputan yang akan digunakan dalam melakukan klasifikasi penduduk miskin tahun 2016 adalah Umur, Pendidikan, Pekerjaan, Penghasilan, Tanggungan, Status (Kawin/Belum Kawin), sesuai data yang telah diambil dan sesuai dengan variabel yang akan diinputkan, maka hasil klasifikasinya nanti akan menentukan tingkat kemiskinan seperti : Miskin dan Tidak Miskin. Rumusan Masalah penelitian ini adalah menentukan cara merekayasa sistem untuk klasifikasi masyarakat miskin Menggunakan Algoritma Naive Bayes dan Hasil penerapan Algoritma Naive Bayes untuk klasifikasi masyarakat miskin di kecamatan tibawa. Adapun tujuan dari penelitian ini adalah : Klasifikasi masyarakat miskin di Kecamatan Tibawa Menggunakan Algoritma Naive Bayes dan Menerapkan Algoritma Naive Bayes klasifikasi masyarakat miskin di Kecamatan Tibawa.\n",
    "    </p>\n",
    "    \n",
    "</div>"
   ]
  },
  {
   "attachments": {},
   "cell_type": "markdown",
   "metadata": {},
   "source": [
    "# METODE YANG DIAMBIL"
   ]
  },
  {
   "attachments": {},
   "cell_type": "markdown",
   "metadata": {},
   "source": [
    "<div style = \"text-align:justify\">\n",
    "    <p>Metode Naive Bayes adalah salah satu metode klasifikasi yang populer dalam machine learning dan data mining. Metode ini didasarkan pada teori probabilitas Bayes yang dikemukakan oleh Thomas Bayes pada abad ke-18. Metode ini dapat digunakan untuk memprediksi kategori atau label dari suatu data berdasarkan kemunculan nilai-nilai tertentu pada fitur-fiturnya.\n",
    "    </p>\n",
    "    <p>Dalam konteks kemiskinan, metode Naive Bayes dapat digunakan untuk memprediksi apakah seseorang termasuk dalam kategori miskin atau tidak, berdasarkan fitur-fitur seperti pendapatan, pekerjaan, tingkat pendidikan, kondisi rumah, dll. Metode ini sangat berguna karena dapat memprediksi status kemiskinan seseorang dengan akurasi yang cukup tinggi, bahkan dengan data yang tidak terlalu banyak. Namun, perlu diperhatikan bahwa metode Naive Bayes memiliki asumsi yang cukup kuat, yaitu bahwa semua fitur yang ada pada data independent atau tidak saling berkaitan satu sama lain. Hal ini mungkin tidak sepenuhnya cocok dengan realitas, karena dalam kehidupan nyata, banyak faktor yang saling mempengaruhi dalam menentukan status kemiskinan seseorang. Oleh karena itu, metode Naive Bayes harus digunakan dengan hati-hati dan hasilnya harus selalu divalidasi dengan data yang lebih lengkap dan diversifikasi.\n",
    "    </p>\n",
    "</div>"
   ]
  },
  {
   "attachments": {},
   "cell_type": "markdown",
   "metadata": {},
   "source": [
    "# Import Library"
   ]
  },
  {
   "cell_type": "code",
   "execution_count": 1,
   "metadata": {},
   "outputs": [],
   "source": [
    "import matplotlib.pyplot as plt\n",
    "import pandas as pd\n",
    "from sklearn.model_selection import train_test_split\n",
    "from sklearn.pipeline import Pipeline\n",
    "from sklearn.compose import ColumnTransformer\n",
    "from jcopml.pipeline import num_pipe, cat_pipe\n",
    "from sklearn.naive_bayes import GaussianNB\n",
    "from jcopml.plot import plot_confusion_matrix"
   ]
  },
  {
   "attachments": {},
   "cell_type": "markdown",
   "metadata": {},
   "source": [
    "code diatas merupakan code untuk memanggil library-library yang dibutuhkan pada perhitungan naive bayes classifier tentang klasifikasi kemiskinan.\n",
    "<p>matplotlib digunakan untuk visualisasi dari data yang diberikan</p>\n",
    "<p>pandas digunakan untuk manipulasi data yang ada pada file excel</p>\n",
    "<p>train_test_split digunakan untuk membagi dataset menjadi subset pelatihan dan subset pengujian</p>\n",
    "<p>Pipeline digunakan untuk menggabungkan beberapa tahapan dalam aliran pemrosesan data dalam sebuah workflow yang terstruktur</p>\n",
    "<p>ColumnTransformer digunakan untuk melakukan transformasi kolom-kolom yang berbeda dalam dataset secara independen</p>\n",
    "<p>num_pipe menyediakan transformer dan metode bantu untuk memproses fitur numerik</p>\n",
    "<p>cat_pipe berfokus pada fitur kategorikal dan menyediakan transformer dan metode bantu yang relevan</p>\n",
    "<p>sklearn.naive_bayes menyediakan berbagai kelas yang mengimplementasikan algoritma Naive Bayes untuk pembelajaran mesin</p>\n",
    "<p>plot confusion matrix untuk memvisualisasikan confusion matrix</p>"
   ]
  },
  {
   "attachments": {},
   "cell_type": "markdown",
   "metadata": {},
   "source": [
    "# DATA TRAINING"
   ]
  },
  {
   "cell_type": "code",
   "execution_count": 2,
   "metadata": {},
   "outputs": [
    {
     "data": {
      "text/html": [
       "<div>\n",
       "<style scoped>\n",
       "    .dataframe tbody tr th:only-of-type {\n",
       "        vertical-align: middle;\n",
       "    }\n",
       "\n",
       "    .dataframe tbody tr th {\n",
       "        vertical-align: top;\n",
       "    }\n",
       "\n",
       "    .dataframe thead th {\n",
       "        text-align: right;\n",
       "    }\n",
       "</style>\n",
       "<table border=\"1\" class=\"dataframe\">\n",
       "  <thead>\n",
       "    <tr style=\"text-align: right;\">\n",
       "      <th></th>\n",
       "      <th>Umur</th>\n",
       "      <th>Status</th>\n",
       "      <th>Pendidikan</th>\n",
       "      <th>Pekerjaan</th>\n",
       "      <th>Penghasilan</th>\n",
       "      <th>Tanggungan</th>\n",
       "      <th>Actual_Class</th>\n",
       "    </tr>\n",
       "  </thead>\n",
       "  <tbody>\n",
       "    <tr>\n",
       "      <th>0</th>\n",
       "      <td>Tua</td>\n",
       "      <td>Kawin</td>\n",
       "      <td>SLTP</td>\n",
       "      <td>Pedagang</td>\n",
       "      <td>Tinggi</td>\n",
       "      <td>1</td>\n",
       "      <td>0</td>\n",
       "    </tr>\n",
       "    <tr>\n",
       "      <th>1</th>\n",
       "      <td>Muda</td>\n",
       "      <td>Belum Kawin</td>\n",
       "      <td>SD</td>\n",
       "      <td>Buruh Lepas</td>\n",
       "      <td>Rendah</td>\n",
       "      <td>0</td>\n",
       "      <td>1</td>\n",
       "    </tr>\n",
       "    <tr>\n",
       "      <th>2</th>\n",
       "      <td>Tua</td>\n",
       "      <td>Kawin</td>\n",
       "      <td>Sarjana</td>\n",
       "      <td>Aparatur Negara</td>\n",
       "      <td>Tinggi</td>\n",
       "      <td>3</td>\n",
       "      <td>0</td>\n",
       "    </tr>\n",
       "    <tr>\n",
       "      <th>3</th>\n",
       "      <td>Tua</td>\n",
       "      <td>Kawin</td>\n",
       "      <td>SLTP</td>\n",
       "      <td>Petani</td>\n",
       "      <td>Rendah</td>\n",
       "      <td>4</td>\n",
       "      <td>1</td>\n",
       "    </tr>\n",
       "    <tr>\n",
       "      <th>4</th>\n",
       "      <td>Muda</td>\n",
       "      <td>Kawin</td>\n",
       "      <td>Sarjana</td>\n",
       "      <td>Aparatur Negara</td>\n",
       "      <td>Tinggi</td>\n",
       "      <td>4</td>\n",
       "      <td>0</td>\n",
       "    </tr>\n",
       "    <tr>\n",
       "      <th>5</th>\n",
       "      <td>Muda</td>\n",
       "      <td>Kawin</td>\n",
       "      <td>SD</td>\n",
       "      <td>Petani</td>\n",
       "      <td>Rendah</td>\n",
       "      <td>3</td>\n",
       "      <td>1</td>\n",
       "    </tr>\n",
       "    <tr>\n",
       "      <th>6</th>\n",
       "      <td>Muda</td>\n",
       "      <td>Kawin</td>\n",
       "      <td>Tidak Sekolah</td>\n",
       "      <td>Petani</td>\n",
       "      <td>Sedang</td>\n",
       "      <td>2</td>\n",
       "      <td>1</td>\n",
       "    </tr>\n",
       "    <tr>\n",
       "      <th>7</th>\n",
       "      <td>Tua</td>\n",
       "      <td>Kawin</td>\n",
       "      <td>SLTP</td>\n",
       "      <td>Buruh Lepas</td>\n",
       "      <td>Rendah</td>\n",
       "      <td>3</td>\n",
       "      <td>1</td>\n",
       "    </tr>\n",
       "    <tr>\n",
       "      <th>8</th>\n",
       "      <td>Tua</td>\n",
       "      <td>Cerai</td>\n",
       "      <td>SLTA</td>\n",
       "      <td>Tiada</td>\n",
       "      <td>Tiada</td>\n",
       "      <td>2</td>\n",
       "      <td>1</td>\n",
       "    </tr>\n",
       "    <tr>\n",
       "      <th>9</th>\n",
       "      <td>Muda</td>\n",
       "      <td>Kawin</td>\n",
       "      <td>SD</td>\n",
       "      <td>Petani</td>\n",
       "      <td>Rendah</td>\n",
       "      <td>3</td>\n",
       "      <td>1</td>\n",
       "    </tr>\n",
       "    <tr>\n",
       "      <th>10</th>\n",
       "      <td>Muda</td>\n",
       "      <td>Kawin</td>\n",
       "      <td>SLTP</td>\n",
       "      <td>Petani</td>\n",
       "      <td>Sedang</td>\n",
       "      <td>3</td>\n",
       "      <td>0</td>\n",
       "    </tr>\n",
       "    <tr>\n",
       "      <th>11</th>\n",
       "      <td>Muda</td>\n",
       "      <td>Belum Kawin</td>\n",
       "      <td>SD</td>\n",
       "      <td>Buruh Lepas</td>\n",
       "      <td>Rendah</td>\n",
       "      <td>0</td>\n",
       "      <td>0</td>\n",
       "    </tr>\n",
       "    <tr>\n",
       "      <th>12</th>\n",
       "      <td>Tua</td>\n",
       "      <td>Kawin</td>\n",
       "      <td>SD</td>\n",
       "      <td>Tiada</td>\n",
       "      <td>Tiada</td>\n",
       "      <td>1</td>\n",
       "      <td>1</td>\n",
       "    </tr>\n",
       "    <tr>\n",
       "      <th>13</th>\n",
       "      <td>Muda</td>\n",
       "      <td>Kawin</td>\n",
       "      <td>SD</td>\n",
       "      <td>Buruh Lepas</td>\n",
       "      <td>Rendah</td>\n",
       "      <td>3</td>\n",
       "      <td>1</td>\n",
       "    </tr>\n",
       "    <tr>\n",
       "      <th>14</th>\n",
       "      <td>Muda</td>\n",
       "      <td>Kawin</td>\n",
       "      <td>SD</td>\n",
       "      <td>Petani</td>\n",
       "      <td>Sedang</td>\n",
       "      <td>5</td>\n",
       "      <td>1</td>\n",
       "    </tr>\n",
       "    <tr>\n",
       "      <th>15</th>\n",
       "      <td>Tua</td>\n",
       "      <td>Kawin</td>\n",
       "      <td>SD</td>\n",
       "      <td>Petani</td>\n",
       "      <td>Rendah</td>\n",
       "      <td>3</td>\n",
       "      <td>1</td>\n",
       "    </tr>\n",
       "    <tr>\n",
       "      <th>16</th>\n",
       "      <td>Tua</td>\n",
       "      <td>Cerai</td>\n",
       "      <td>SLTA</td>\n",
       "      <td>Tiada</td>\n",
       "      <td>Tiada</td>\n",
       "      <td>1</td>\n",
       "      <td>1</td>\n",
       "    </tr>\n",
       "    <tr>\n",
       "      <th>17</th>\n",
       "      <td>Tua</td>\n",
       "      <td>Cerai</td>\n",
       "      <td>SD</td>\n",
       "      <td>Tiada</td>\n",
       "      <td>Tiada</td>\n",
       "      <td>2</td>\n",
       "      <td>1</td>\n",
       "    </tr>\n",
       "    <tr>\n",
       "      <th>18</th>\n",
       "      <td>Tua</td>\n",
       "      <td>Kawin</td>\n",
       "      <td>SD</td>\n",
       "      <td>Buruh Lepas</td>\n",
       "      <td>Rendah</td>\n",
       "      <td>3</td>\n",
       "      <td>1</td>\n",
       "    </tr>\n",
       "  </tbody>\n",
       "</table>\n",
       "</div>"
      ],
      "text/plain": [
       "    Umur       Status     Pendidikan        Pekerjaan Penghasilan  Tanggungan  \\\n",
       "0    Tua        Kawin           SLTP         Pedagang      Tinggi           1   \n",
       "1   Muda  Belum Kawin             SD      Buruh Lepas      Rendah           0   \n",
       "2    Tua        Kawin        Sarjana  Aparatur Negara      Tinggi           3   \n",
       "3    Tua        Kawin           SLTP           Petani      Rendah           4   \n",
       "4   Muda        Kawin        Sarjana  Aparatur Negara      Tinggi           4   \n",
       "5   Muda        Kawin             SD           Petani      Rendah           3   \n",
       "6   Muda        Kawin  Tidak Sekolah           Petani      Sedang           2   \n",
       "7    Tua        Kawin           SLTP      Buruh Lepas      Rendah           3   \n",
       "8    Tua        Cerai           SLTA            Tiada       Tiada           2   \n",
       "9   Muda        Kawin             SD           Petani      Rendah           3   \n",
       "10  Muda        Kawin           SLTP           Petani      Sedang           3   \n",
       "11  Muda  Belum Kawin             SD      Buruh Lepas      Rendah           0   \n",
       "12   Tua        Kawin             SD            Tiada       Tiada           1   \n",
       "13  Muda        Kawin             SD      Buruh Lepas      Rendah           3   \n",
       "14  Muda        Kawin             SD           Petani      Sedang           5   \n",
       "15   Tua        Kawin             SD           Petani      Rendah           3   \n",
       "16   Tua        Cerai           SLTA            Tiada       Tiada           1   \n",
       "17   Tua        Cerai             SD            Tiada       Tiada           2   \n",
       "18   Tua        Kawin             SD      Buruh Lepas      Rendah           3   \n",
       "\n",
       "    Actual_Class  \n",
       "0              0  \n",
       "1              1  \n",
       "2              0  \n",
       "3              1  \n",
       "4              0  \n",
       "5              1  \n",
       "6              1  \n",
       "7              1  \n",
       "8              1  \n",
       "9              1  \n",
       "10             0  \n",
       "11             0  \n",
       "12             1  \n",
       "13             1  \n",
       "14             1  \n",
       "15             1  \n",
       "16             1  \n",
       "17             1  \n",
       "18             1  "
      ]
     },
     "execution_count": 2,
     "metadata": {},
     "output_type": "execute_result"
    }
   ],
   "source": [
    "data = pd.read_excel(\"dataset.xlsx\")\n",
    "data"
   ]
  },
  {
   "attachments": {},
   "cell_type": "markdown",
   "metadata": {},
   "source": [
    "pada tabel diatas merupakan data training yang digunakan pada perhitungan naive bayes classifier ini. pada tabel ini memiliki 6 fitur dengan 1 label yaitu actual class antara miskin (1) dan tidak miskin (0)"
   ]
  },
  {
   "attachments": {},
   "cell_type": "markdown",
   "metadata": {},
   "source": [
    "### Klasifikasi Berdasarkan Miskin dan Tidak Miskin"
   ]
  },
  {
   "attachments": {},
   "cell_type": "markdown",
   "metadata": {},
   "source": [
    "#### Miskin"
   ]
  },
  {
   "cell_type": "code",
   "execution_count": 3,
   "metadata": {},
   "outputs": [
    {
     "data": {
      "text/html": [
       "<div>\n",
       "<style scoped>\n",
       "    .dataframe tbody tr th:only-of-type {\n",
       "        vertical-align: middle;\n",
       "    }\n",
       "\n",
       "    .dataframe tbody tr th {\n",
       "        vertical-align: top;\n",
       "    }\n",
       "\n",
       "    .dataframe thead th {\n",
       "        text-align: right;\n",
       "    }\n",
       "</style>\n",
       "<table border=\"1\" class=\"dataframe\">\n",
       "  <thead>\n",
       "    <tr style=\"text-align: right;\">\n",
       "      <th></th>\n",
       "      <th>Umur</th>\n",
       "      <th>Status</th>\n",
       "      <th>Pendidikan</th>\n",
       "      <th>Pekerjaan</th>\n",
       "      <th>Penghasilan</th>\n",
       "      <th>Tanggungan</th>\n",
       "      <th>Actual_Class</th>\n",
       "    </tr>\n",
       "  </thead>\n",
       "  <tbody>\n",
       "    <tr>\n",
       "      <th>1</th>\n",
       "      <td>Muda</td>\n",
       "      <td>Belum Kawin</td>\n",
       "      <td>SD</td>\n",
       "      <td>Buruh Lepas</td>\n",
       "      <td>Rendah</td>\n",
       "      <td>0</td>\n",
       "      <td>1</td>\n",
       "    </tr>\n",
       "    <tr>\n",
       "      <th>3</th>\n",
       "      <td>Tua</td>\n",
       "      <td>Kawin</td>\n",
       "      <td>SLTP</td>\n",
       "      <td>Petani</td>\n",
       "      <td>Rendah</td>\n",
       "      <td>4</td>\n",
       "      <td>1</td>\n",
       "    </tr>\n",
       "    <tr>\n",
       "      <th>5</th>\n",
       "      <td>Muda</td>\n",
       "      <td>Kawin</td>\n",
       "      <td>SD</td>\n",
       "      <td>Petani</td>\n",
       "      <td>Rendah</td>\n",
       "      <td>3</td>\n",
       "      <td>1</td>\n",
       "    </tr>\n",
       "    <tr>\n",
       "      <th>6</th>\n",
       "      <td>Muda</td>\n",
       "      <td>Kawin</td>\n",
       "      <td>Tidak Sekolah</td>\n",
       "      <td>Petani</td>\n",
       "      <td>Sedang</td>\n",
       "      <td>2</td>\n",
       "      <td>1</td>\n",
       "    </tr>\n",
       "    <tr>\n",
       "      <th>7</th>\n",
       "      <td>Tua</td>\n",
       "      <td>Kawin</td>\n",
       "      <td>SLTP</td>\n",
       "      <td>Buruh Lepas</td>\n",
       "      <td>Rendah</td>\n",
       "      <td>3</td>\n",
       "      <td>1</td>\n",
       "    </tr>\n",
       "    <tr>\n",
       "      <th>8</th>\n",
       "      <td>Tua</td>\n",
       "      <td>Cerai</td>\n",
       "      <td>SLTA</td>\n",
       "      <td>Tiada</td>\n",
       "      <td>Tiada</td>\n",
       "      <td>2</td>\n",
       "      <td>1</td>\n",
       "    </tr>\n",
       "    <tr>\n",
       "      <th>9</th>\n",
       "      <td>Muda</td>\n",
       "      <td>Kawin</td>\n",
       "      <td>SD</td>\n",
       "      <td>Petani</td>\n",
       "      <td>Rendah</td>\n",
       "      <td>3</td>\n",
       "      <td>1</td>\n",
       "    </tr>\n",
       "    <tr>\n",
       "      <th>12</th>\n",
       "      <td>Tua</td>\n",
       "      <td>Kawin</td>\n",
       "      <td>SD</td>\n",
       "      <td>Tiada</td>\n",
       "      <td>Tiada</td>\n",
       "      <td>1</td>\n",
       "      <td>1</td>\n",
       "    </tr>\n",
       "    <tr>\n",
       "      <th>13</th>\n",
       "      <td>Muda</td>\n",
       "      <td>Kawin</td>\n",
       "      <td>SD</td>\n",
       "      <td>Buruh Lepas</td>\n",
       "      <td>Rendah</td>\n",
       "      <td>3</td>\n",
       "      <td>1</td>\n",
       "    </tr>\n",
       "    <tr>\n",
       "      <th>14</th>\n",
       "      <td>Muda</td>\n",
       "      <td>Kawin</td>\n",
       "      <td>SD</td>\n",
       "      <td>Petani</td>\n",
       "      <td>Sedang</td>\n",
       "      <td>5</td>\n",
       "      <td>1</td>\n",
       "    </tr>\n",
       "    <tr>\n",
       "      <th>15</th>\n",
       "      <td>Tua</td>\n",
       "      <td>Kawin</td>\n",
       "      <td>SD</td>\n",
       "      <td>Petani</td>\n",
       "      <td>Rendah</td>\n",
       "      <td>3</td>\n",
       "      <td>1</td>\n",
       "    </tr>\n",
       "    <tr>\n",
       "      <th>16</th>\n",
       "      <td>Tua</td>\n",
       "      <td>Cerai</td>\n",
       "      <td>SLTA</td>\n",
       "      <td>Tiada</td>\n",
       "      <td>Tiada</td>\n",
       "      <td>1</td>\n",
       "      <td>1</td>\n",
       "    </tr>\n",
       "    <tr>\n",
       "      <th>17</th>\n",
       "      <td>Tua</td>\n",
       "      <td>Cerai</td>\n",
       "      <td>SD</td>\n",
       "      <td>Tiada</td>\n",
       "      <td>Tiada</td>\n",
       "      <td>2</td>\n",
       "      <td>1</td>\n",
       "    </tr>\n",
       "    <tr>\n",
       "      <th>18</th>\n",
       "      <td>Tua</td>\n",
       "      <td>Kawin</td>\n",
       "      <td>SD</td>\n",
       "      <td>Buruh Lepas</td>\n",
       "      <td>Rendah</td>\n",
       "      <td>3</td>\n",
       "      <td>1</td>\n",
       "    </tr>\n",
       "  </tbody>\n",
       "</table>\n",
       "</div>"
      ],
      "text/plain": [
       "    Umur       Status     Pendidikan    Pekerjaan Penghasilan  Tanggungan  \\\n",
       "1   Muda  Belum Kawin             SD  Buruh Lepas      Rendah           0   \n",
       "3    Tua        Kawin           SLTP       Petani      Rendah           4   \n",
       "5   Muda        Kawin             SD       Petani      Rendah           3   \n",
       "6   Muda        Kawin  Tidak Sekolah       Petani      Sedang           2   \n",
       "7    Tua        Kawin           SLTP  Buruh Lepas      Rendah           3   \n",
       "8    Tua        Cerai           SLTA        Tiada       Tiada           2   \n",
       "9   Muda        Kawin             SD       Petani      Rendah           3   \n",
       "12   Tua        Kawin             SD        Tiada       Tiada           1   \n",
       "13  Muda        Kawin             SD  Buruh Lepas      Rendah           3   \n",
       "14  Muda        Kawin             SD       Petani      Sedang           5   \n",
       "15   Tua        Kawin             SD       Petani      Rendah           3   \n",
       "16   Tua        Cerai           SLTA        Tiada       Tiada           1   \n",
       "17   Tua        Cerai             SD        Tiada       Tiada           2   \n",
       "18   Tua        Kawin             SD  Buruh Lepas      Rendah           3   \n",
       "\n",
       "    Actual_Class  \n",
       "1              1  \n",
       "3              1  \n",
       "5              1  \n",
       "6              1  \n",
       "7              1  \n",
       "8              1  \n",
       "9              1  \n",
       "12             1  \n",
       "13             1  \n",
       "14             1  \n",
       "15             1  \n",
       "16             1  \n",
       "17             1  \n",
       "18             1  "
      ]
     },
     "execution_count": 3,
     "metadata": {},
     "output_type": "execute_result"
    }
   ],
   "source": [
    "miskin = data[data[\"Actual_Class\"]== 1]\n",
    "miskin"
   ]
  },
  {
   "attachments": {},
   "cell_type": "markdown",
   "metadata": {},
   "source": [
    "pada tabel diatas merupakan tabel yang sudah dikelompokkan menurut actual classnya yaitu class miskin sehingga terdapat 14 data yang tergolong miskin dari data training sebelumnya"
   ]
  },
  {
   "cell_type": "code",
   "execution_count": 4,
   "metadata": {},
   "outputs": [
    {
     "data": {
      "text/html": [
       "<div>\n",
       "<style scoped>\n",
       "    .dataframe tbody tr th:only-of-type {\n",
       "        vertical-align: middle;\n",
       "    }\n",
       "\n",
       "    .dataframe tbody tr th {\n",
       "        vertical-align: top;\n",
       "    }\n",
       "\n",
       "    .dataframe thead th {\n",
       "        text-align: right;\n",
       "    }\n",
       "</style>\n",
       "<table border=\"1\" class=\"dataframe\">\n",
       "  <thead>\n",
       "    <tr style=\"text-align: right;\">\n",
       "      <th></th>\n",
       "      <th>Umur</th>\n",
       "      <th>Status</th>\n",
       "      <th>Pendidikan</th>\n",
       "      <th>Pekerjaan</th>\n",
       "      <th>Penghasilan</th>\n",
       "      <th>Tanggungan</th>\n",
       "      <th>Actual_Class</th>\n",
       "    </tr>\n",
       "  </thead>\n",
       "  <tbody>\n",
       "    <tr>\n",
       "      <th>0</th>\n",
       "      <td>Tua</td>\n",
       "      <td>Kawin</td>\n",
       "      <td>SLTP</td>\n",
       "      <td>Pedagang</td>\n",
       "      <td>Tinggi</td>\n",
       "      <td>1</td>\n",
       "      <td>0</td>\n",
       "    </tr>\n",
       "    <tr>\n",
       "      <th>2</th>\n",
       "      <td>Tua</td>\n",
       "      <td>Kawin</td>\n",
       "      <td>Sarjana</td>\n",
       "      <td>Aparatur Negara</td>\n",
       "      <td>Tinggi</td>\n",
       "      <td>3</td>\n",
       "      <td>0</td>\n",
       "    </tr>\n",
       "    <tr>\n",
       "      <th>4</th>\n",
       "      <td>Muda</td>\n",
       "      <td>Kawin</td>\n",
       "      <td>Sarjana</td>\n",
       "      <td>Aparatur Negara</td>\n",
       "      <td>Tinggi</td>\n",
       "      <td>4</td>\n",
       "      <td>0</td>\n",
       "    </tr>\n",
       "    <tr>\n",
       "      <th>10</th>\n",
       "      <td>Muda</td>\n",
       "      <td>Kawin</td>\n",
       "      <td>SLTP</td>\n",
       "      <td>Petani</td>\n",
       "      <td>Sedang</td>\n",
       "      <td>3</td>\n",
       "      <td>0</td>\n",
       "    </tr>\n",
       "    <tr>\n",
       "      <th>11</th>\n",
       "      <td>Muda</td>\n",
       "      <td>Belum Kawin</td>\n",
       "      <td>SD</td>\n",
       "      <td>Buruh Lepas</td>\n",
       "      <td>Rendah</td>\n",
       "      <td>0</td>\n",
       "      <td>0</td>\n",
       "    </tr>\n",
       "  </tbody>\n",
       "</table>\n",
       "</div>"
      ],
      "text/plain": [
       "    Umur       Status Pendidikan        Pekerjaan Penghasilan  Tanggungan  \\\n",
       "0    Tua        Kawin       SLTP         Pedagang      Tinggi           1   \n",
       "2    Tua        Kawin    Sarjana  Aparatur Negara      Tinggi           3   \n",
       "4   Muda        Kawin    Sarjana  Aparatur Negara      Tinggi           4   \n",
       "10  Muda        Kawin       SLTP           Petani      Sedang           3   \n",
       "11  Muda  Belum Kawin         SD      Buruh Lepas      Rendah           0   \n",
       "\n",
       "    Actual_Class  \n",
       "0              0  \n",
       "2              0  \n",
       "4              0  \n",
       "10             0  \n",
       "11             0  "
      ]
     },
     "execution_count": 4,
     "metadata": {},
     "output_type": "execute_result"
    }
   ],
   "source": [
    "tidakMiskin = data[data[\"Actual_Class\"]== 0]\n",
    "tidakMiskin"
   ]
  },
  {
   "attachments": {},
   "cell_type": "markdown",
   "metadata": {},
   "source": [
    "pada tabel diatas merupakan tabel yang sudah dikelompokkan menurut actual classnya yaitu class ridak miskin sehingga terdapat 5 data yang tergolong tidak miskin dari data training sebelumnya"
   ]
  },
  {
   "attachments": {},
   "cell_type": "markdown",
   "metadata": {},
   "source": [
    "## Jumlah Kelas berdasarkan kategori"
   ]
  },
  {
   "cell_type": "code",
   "execution_count": 5,
   "metadata": {},
   "outputs": [],
   "source": [
    "def diagram (jumlahkategori, x= '', y= '', judul = ''):\n",
    "    jumlahkategori.plot(kind='bar' , color='steelblue')\n",
    "    plt.xlabel(x)\n",
    "    plt.xticks(rotation='horizontal')\n",
    "    plt.ylabel(y)\n",
    "    plt.title(judul)\n",
    "    plt.grid(axis='y', linestyle='--', alpha=0.7)\n",
    "    plt.show()"
   ]
  },
  {
   "attachments": {},
   "cell_type": "markdown",
   "metadata": {},
   "source": [
    "pada code diatas digunakan untuk menampilkan hasil visualisasi diagram batang pada jumlah dari masing-masing fitur pada data training yang telah diberikan."
   ]
  },
  {
   "attachments": {},
   "cell_type": "markdown",
   "metadata": {},
   "source": [
    "#### Jumlah Berdasarkan Actual Class"
   ]
  },
  {
   "cell_type": "code",
   "execution_count": 6,
   "metadata": {},
   "outputs": [
    {
     "data": {
      "text/html": [
       "<div>\n",
       "<style scoped>\n",
       "    .dataframe tbody tr th:only-of-type {\n",
       "        vertical-align: middle;\n",
       "    }\n",
       "\n",
       "    .dataframe tbody tr th {\n",
       "        vertical-align: top;\n",
       "    }\n",
       "\n",
       "    .dataframe thead th {\n",
       "        text-align: right;\n",
       "    }\n",
       "</style>\n",
       "<table border=\"1\" class=\"dataframe\">\n",
       "  <thead>\n",
       "    <tr style=\"text-align: right;\">\n",
       "      <th></th>\n",
       "      <th>Actual_Class</th>\n",
       "    </tr>\n",
       "  </thead>\n",
       "  <tbody>\n",
       "    <tr>\n",
       "      <th>1</th>\n",
       "      <td>14</td>\n",
       "    </tr>\n",
       "    <tr>\n",
       "      <th>0</th>\n",
       "      <td>5</td>\n",
       "    </tr>\n",
       "  </tbody>\n",
       "</table>\n",
       "</div>"
      ],
      "text/plain": [
       "   Actual_Class\n",
       "1            14\n",
       "0             5"
      ]
     },
     "execution_count": 6,
     "metadata": {},
     "output_type": "execute_result"
    }
   ],
   "source": [
    "actualclass = data[\"Actual_Class\"].value_counts()\n",
    "pd.DataFrame(actualclass)"
   ]
  },
  {
   "attachments": {},
   "cell_type": "markdown",
   "metadata": {},
   "source": [
    "pada tabel diatas dapat kita ketahui bahwa terdapat 14 kelas miskin dan 5 kelas tidak miskin dengan perumpamaan 1 = miskin, 0 = tidak miskin"
   ]
  },
  {
   "cell_type": "code",
   "execution_count": 7,
   "metadata": {},
   "outputs": [
    {
     "data": {
      "image/png": "[encoded data removed]",
      "text/plain": [
       "<Figure size 640x480 with 1 Axes>"
      ]
     },
     "metadata": {},
     "output_type": "display_data"
    }
   ],
   "source": [
    "diagramActuallClass = diagram(actualclass, 'Kategori Kelas', 'Jumlah Orang', 'Diagram Actual Class')"
   ]
  },
  {
   "attachments": {},
   "cell_type": "markdown",
   "metadata": {},
   "source": [
    "diagram diatas merupakan hasil dari representasi actual class yang terdapat dua kategori yaitu miskin dan tidak miskin"
   ]
  },
  {
   "attachments": {},
   "cell_type": "markdown",
   "metadata": {},
   "source": [
    "#### Jumlah Berdasarkan Umur"
   ]
  },
  {
   "cell_type": "code",
   "execution_count": 8,
   "metadata": {},
   "outputs": [
    {
     "data": {
      "text/html": [
       "<div>\n",
       "<style scoped>\n",
       "    .dataframe tbody tr th:only-of-type {\n",
       "        vertical-align: middle;\n",
       "    }\n",
       "\n",
       "    .dataframe tbody tr th {\n",
       "        vertical-align: top;\n",
       "    }\n",
       "\n",
       "    .dataframe thead th {\n",
       "        text-align: right;\n",
       "    }\n",
       "</style>\n",
       "<table border=\"1\" class=\"dataframe\">\n",
       "  <thead>\n",
       "    <tr style=\"text-align: right;\">\n",
       "      <th></th>\n",
       "      <th>Umur</th>\n",
       "    </tr>\n",
       "  </thead>\n",
       "  <tbody>\n",
       "    <tr>\n",
       "      <th>Tua</th>\n",
       "      <td>10</td>\n",
       "    </tr>\n",
       "    <tr>\n",
       "      <th>Muda</th>\n",
       "      <td>9</td>\n",
       "    </tr>\n",
       "  </tbody>\n",
       "</table>\n",
       "</div>"
      ],
      "text/plain": [
       "      Umur\n",
       "Tua     10\n",
       "Muda     9"
      ]
     },
     "execution_count": 8,
     "metadata": {},
     "output_type": "execute_result"
    }
   ],
   "source": [
    "umur = data[\"Umur\"].value_counts()\n",
    "pd.DataFrame(umur)"
   ]
  },
  {
   "attachments": {},
   "cell_type": "markdown",
   "metadata": {},
   "source": [
    "Pada tabel diatas untuk menghitung atau menjumlahkan jumlah berapa orang yang tergolong tua dan yang tergolong muda dari data tersebut."
   ]
  },
  {
   "cell_type": "code",
   "execution_count": 9,
   "metadata": {},
   "outputs": [
    {
     "data": {
      "image/png": "[encoded data removed]",
      "text/plain": [
       "<Figure size 640x480 with 1 Axes>"
      ]
     },
     "metadata": {},
     "output_type": "display_data"
    }
   ],
   "source": [
    "diagramUmur = diagram(umur, 'Kategori Umur', 'Jumlah Orang', 'Diagram Umur')"
   ]
  },
  {
   "attachments": {},
   "cell_type": "markdown",
   "metadata": {},
   "source": [
    "Pada gambar diagram batang diatas adalah tampilan dari code hasil membuat diagram sesuai kondisi yang dibuat untuk diambil kesimpulan jumlah orang yang berumur tua dan muda."
   ]
  },
  {
   "attachments": {},
   "cell_type": "markdown",
   "metadata": {},
   "source": [
    "#### Jumlah Berdasarkan Status"
   ]
  },
  {
   "cell_type": "code",
   "execution_count": 10,
   "metadata": {},
   "outputs": [
    {
     "data": {
      "text/html": [
       "<div>\n",
       "<style scoped>\n",
       "    .dataframe tbody tr th:only-of-type {\n",
       "        vertical-align: middle;\n",
       "    }\n",
       "\n",
       "    .dataframe tbody tr th {\n",
       "        vertical-align: top;\n",
       "    }\n",
       "\n",
       "    .dataframe thead th {\n",
       "        text-align: right;\n",
       "    }\n",
       "</style>\n",
       "<table border=\"1\" class=\"dataframe\">\n",
       "  <thead>\n",
       "    <tr style=\"text-align: right;\">\n",
       "      <th></th>\n",
       "      <th>Status</th>\n",
       "    </tr>\n",
       "  </thead>\n",
       "  <tbody>\n",
       "    <tr>\n",
       "      <th>Kawin</th>\n",
       "      <td>14</td>\n",
       "    </tr>\n",
       "    <tr>\n",
       "      <th>Cerai</th>\n",
       "      <td>3</td>\n",
       "    </tr>\n",
       "    <tr>\n",
       "      <th>Belum Kawin</th>\n",
       "      <td>2</td>\n",
       "    </tr>\n",
       "  </tbody>\n",
       "</table>\n",
       "</div>"
      ],
      "text/plain": [
       "             Status\n",
       "Kawin            14\n",
       "Cerai             3\n",
       "Belum Kawin       2"
      ]
     },
     "execution_count": 10,
     "metadata": {},
     "output_type": "execute_result"
    }
   ],
   "source": [
    "status= data[\"Status\"].value_counts()\n",
    "pd.DataFrame(status)"
   ]
  },
  {
   "attachments": {},
   "cell_type": "markdown",
   "metadata": {},
   "source": [
    "Pada tabel diatas untuk menghitung atau menjumlahkan berdasarkan statusnya, dari datasetnya terlihat ada 3 perbedaan status, ada masyarakat yang tergolong kawin, cerai dan belum kawin."
   ]
  },
  {
   "cell_type": "code",
   "execution_count": 11,
   "metadata": {},
   "outputs": [
    {
     "data": {
      "image/png": "[encoded data removed]",
      "text/plain": [
       "<Figure size 640x480 with 1 Axes>"
      ]
     },
     "metadata": {},
     "output_type": "display_data"
    }
   ],
   "source": [
    "diagramStatus = diagram(status, 'Kategori Status', 'Jumlah Orang', 'Diagram Status')"
   ]
  },
  {
   "attachments": {},
   "cell_type": "markdown",
   "metadata": {},
   "source": [
    "Pada gambar diagram batang diatas adalah tampilan dari diagram masyarakat berdasarkan statusnya sesuai yang ada pada datasetnya."
   ]
  },
  {
   "attachments": {},
   "cell_type": "markdown",
   "metadata": {},
   "source": [
    "#### Jumlah Berdasarkan Pendidikan"
   ]
  },
  {
   "cell_type": "code",
   "execution_count": 12,
   "metadata": {},
   "outputs": [
    {
     "data": {
      "text/html": [
       "<div>\n",
       "<style scoped>\n",
       "    .dataframe tbody tr th:only-of-type {\n",
       "        vertical-align: middle;\n",
       "    }\n",
       "\n",
       "    .dataframe tbody tr th {\n",
       "        vertical-align: top;\n",
       "    }\n",
       "\n",
       "    .dataframe thead th {\n",
       "        text-align: right;\n",
       "    }\n",
       "</style>\n",
       "<table border=\"1\" class=\"dataframe\">\n",
       "  <thead>\n",
       "    <tr style=\"text-align: right;\">\n",
       "      <th></th>\n",
       "      <th>Pendidikan</th>\n",
       "    </tr>\n",
       "  </thead>\n",
       "  <tbody>\n",
       "    <tr>\n",
       "      <th>SD</th>\n",
       "      <td>10</td>\n",
       "    </tr>\n",
       "    <tr>\n",
       "      <th>SLTP</th>\n",
       "      <td>4</td>\n",
       "    </tr>\n",
       "    <tr>\n",
       "      <th>Sarjana</th>\n",
       "      <td>2</td>\n",
       "    </tr>\n",
       "    <tr>\n",
       "      <th>SLTA</th>\n",
       "      <td>2</td>\n",
       "    </tr>\n",
       "    <tr>\n",
       "      <th>Tidak Sekolah</th>\n",
       "      <td>1</td>\n",
       "    </tr>\n",
       "  </tbody>\n",
       "</table>\n",
       "</div>"
      ],
      "text/plain": [
       "               Pendidikan\n",
       "SD                     10\n",
       "SLTP                    4\n",
       "Sarjana                 2\n",
       "SLTA                    2\n",
       "Tidak Sekolah           1"
      ]
     },
     "execution_count": 12,
     "metadata": {},
     "output_type": "execute_result"
    }
   ],
   "source": [
    "pendidikan = data[\"Pendidikan\"].value_counts()\n",
    "pd.DataFrame(pendidikan)"
   ]
  },
  {
   "attachments": {},
   "cell_type": "markdown",
   "metadata": {},
   "source": [
    "Pada tabel diatas untuk menampilkan total masyarakat sesuai dengan dataset dengan jumlah berdasarkan pendidikan terakhirnya"
   ]
  },
  {
   "cell_type": "code",
   "execution_count": 13,
   "metadata": {},
   "outputs": [
    {
     "data": {
      "image/png": "[encoded data removed]",
      "text/plain": [
       "<Figure size 640x480 with 1 Axes>"
      ]
     },
     "metadata": {},
     "output_type": "display_data"
    }
   ],
   "source": [
    "diagramPendidikan = diagram(pendidikan, 'Kategori Pendidikan', 'Jumlah Orang', 'Diagram pendidikan')"
   ]
  },
  {
   "attachments": {},
   "cell_type": "markdown",
   "metadata": {},
   "source": [
    "Pada gambar diagram batang diatas adalah tampilan dari diagram masyarakat berdasarkan pendidikan terakhirnya sesuai yang ada pada datasetnya."
   ]
  },
  {
   "attachments": {},
   "cell_type": "markdown",
   "metadata": {},
   "source": [
    "#### Jumlah Berdasarkan Tanggungan"
   ]
  },
  {
   "cell_type": "code",
   "execution_count": 14,
   "metadata": {},
   "outputs": [
    {
     "data": {
      "text/html": [
       "<div>\n",
       "<style scoped>\n",
       "    .dataframe tbody tr th:only-of-type {\n",
       "        vertical-align: middle;\n",
       "    }\n",
       "\n",
       "    .dataframe tbody tr th {\n",
       "        vertical-align: top;\n",
       "    }\n",
       "\n",
       "    .dataframe thead th {\n",
       "        text-align: right;\n",
       "    }\n",
       "</style>\n",
       "<table border=\"1\" class=\"dataframe\">\n",
       "  <thead>\n",
       "    <tr style=\"text-align: right;\">\n",
       "      <th></th>\n",
       "      <th>Tanggungan</th>\n",
       "    </tr>\n",
       "  </thead>\n",
       "  <tbody>\n",
       "    <tr>\n",
       "      <th>3</th>\n",
       "      <td>8</td>\n",
       "    </tr>\n",
       "    <tr>\n",
       "      <th>1</th>\n",
       "      <td>3</td>\n",
       "    </tr>\n",
       "    <tr>\n",
       "      <th>2</th>\n",
       "      <td>3</td>\n",
       "    </tr>\n",
       "    <tr>\n",
       "      <th>0</th>\n",
       "      <td>2</td>\n",
       "    </tr>\n",
       "    <tr>\n",
       "      <th>4</th>\n",
       "      <td>2</td>\n",
       "    </tr>\n",
       "    <tr>\n",
       "      <th>5</th>\n",
       "      <td>1</td>\n",
       "    </tr>\n",
       "  </tbody>\n",
       "</table>\n",
       "</div>"
      ],
      "text/plain": [
       "   Tanggungan\n",
       "3           8\n",
       "1           3\n",
       "2           3\n",
       "0           2\n",
       "4           2\n",
       "5           1"
      ]
     },
     "execution_count": 14,
     "metadata": {},
     "output_type": "execute_result"
    }
   ],
   "source": [
    "tanggungan = data[\"Tanggungan\"].value_counts()\n",
    "pd.DataFrame(tanggungan)"
   ]
  },
  {
   "attachments": {},
   "cell_type": "markdown",
   "metadata": {},
   "source": [
    "Pada tabel diatas merupakan jumlah dari masyarakat yang memiliki jumlah tanggungan yang berbeda-beda dalam keluarganya sesuai pada dataset. "
   ]
  },
  {
   "cell_type": "code",
   "execution_count": 15,
   "metadata": {},
   "outputs": [
    {
     "data": {
      "image/png": "[encoded data removed]",
      "text/plain": [
       "<Figure size 640x480 with 1 Axes>"
      ]
     },
     "metadata": {},
     "output_type": "display_data"
    }
   ],
   "source": [
    "diagramTanggungan = diagram(tanggungan, 'Kategori Tanggungan', 'Jumlah Orang', 'Diagram Tanggungan')"
   ]
  },
  {
   "attachments": {},
   "cell_type": "markdown",
   "metadata": {},
   "source": [
    "Pada gambar diagram batang diatas adalah tampilan dari diagram masyarakat berdasarkan banyak tanggungannya sesuai yang ada pada datasetnya."
   ]
  },
  {
   "attachments": {},
   "cell_type": "markdown",
   "metadata": {},
   "source": [
    "#### Jumlah Berdasarkan Pekerjaan"
   ]
  },
  {
   "cell_type": "code",
   "execution_count": 16,
   "metadata": {},
   "outputs": [
    {
     "data": {
      "text/html": [
       "<div>\n",
       "<style scoped>\n",
       "    .dataframe tbody tr th:only-of-type {\n",
       "        vertical-align: middle;\n",
       "    }\n",
       "\n",
       "    .dataframe tbody tr th {\n",
       "        vertical-align: top;\n",
       "    }\n",
       "\n",
       "    .dataframe thead th {\n",
       "        text-align: right;\n",
       "    }\n",
       "</style>\n",
       "<table border=\"1\" class=\"dataframe\">\n",
       "  <thead>\n",
       "    <tr style=\"text-align: right;\">\n",
       "      <th></th>\n",
       "      <th>Pekerjaan</th>\n",
       "    </tr>\n",
       "  </thead>\n",
       "  <tbody>\n",
       "    <tr>\n",
       "      <th>Petani</th>\n",
       "      <td>7</td>\n",
       "    </tr>\n",
       "    <tr>\n",
       "      <th>Buruh Lepas</th>\n",
       "      <td>5</td>\n",
       "    </tr>\n",
       "    <tr>\n",
       "      <th>Tiada</th>\n",
       "      <td>4</td>\n",
       "    </tr>\n",
       "    <tr>\n",
       "      <th>Aparatur Negara</th>\n",
       "      <td>2</td>\n",
       "    </tr>\n",
       "    <tr>\n",
       "      <th>Pedagang</th>\n",
       "      <td>1</td>\n",
       "    </tr>\n",
       "  </tbody>\n",
       "</table>\n",
       "</div>"
      ],
      "text/plain": [
       "                 Pekerjaan\n",
       "Petani                   7\n",
       "Buruh Lepas              5\n",
       "Tiada                    4\n",
       "Aparatur Negara          2\n",
       "Pedagang                 1"
      ]
     },
     "execution_count": 16,
     "metadata": {},
     "output_type": "execute_result"
    }
   ],
   "source": [
    "pekerjaan = data[\"Pekerjaan\"].value_counts()\n",
    "pd.DataFrame(pekerjaan)"
   ]
  },
  {
   "attachments": {},
   "cell_type": "markdown",
   "metadata": {},
   "source": [
    "Pada tabel diatas adalah tampilan dari kalkulasi jumlah masyarakat berdasarkan jenis pekerjaanya yang terdapat pada datasetnya."
   ]
  },
  {
   "cell_type": "code",
   "execution_count": 17,
   "metadata": {},
   "outputs": [
    {
     "data": {
      "image/png": "[encoded data removed]",
      "text/plain": [
       "<Figure size 640x480 with 1 Axes>"
      ]
     },
     "metadata": {},
     "output_type": "display_data"
    }
   ],
   "source": [
    "diagramPekerjaan = diagram(pekerjaan, 'Kategori Pekerjaan', 'Jumlah Orang', 'Diagram Pekerjaan')"
   ]
  },
  {
   "attachments": {},
   "cell_type": "markdown",
   "metadata": {},
   "source": [
    "Pada gambar diagram batang diatas adalah tampilan dari diagram masyarakat berdasarkan jenis pekerjaannya sesuai yang ada pada datasetnya."
   ]
  },
  {
   "attachments": {},
   "cell_type": "markdown",
   "metadata": {},
   "source": [
    "#### Jumlah Berdasarkan Penghasilan"
   ]
  },
  {
   "cell_type": "code",
   "execution_count": 18,
   "metadata": {},
   "outputs": [
    {
     "data": {
      "text/html": [
       "<div>\n",
       "<style scoped>\n",
       "    .dataframe tbody tr th:only-of-type {\n",
       "        vertical-align: middle;\n",
       "    }\n",
       "\n",
       "    .dataframe tbody tr th {\n",
       "        vertical-align: top;\n",
       "    }\n",
       "\n",
       "    .dataframe thead th {\n",
       "        text-align: right;\n",
       "    }\n",
       "</style>\n",
       "<table border=\"1\" class=\"dataframe\">\n",
       "  <thead>\n",
       "    <tr style=\"text-align: right;\">\n",
       "      <th></th>\n",
       "      <th>Penghasilan</th>\n",
       "    </tr>\n",
       "  </thead>\n",
       "  <tbody>\n",
       "    <tr>\n",
       "      <th>Rendah</th>\n",
       "      <td>9</td>\n",
       "    </tr>\n",
       "    <tr>\n",
       "      <th>Tiada</th>\n",
       "      <td>4</td>\n",
       "    </tr>\n",
       "    <tr>\n",
       "      <th>Tinggi</th>\n",
       "      <td>3</td>\n",
       "    </tr>\n",
       "    <tr>\n",
       "      <th>Sedang</th>\n",
       "      <td>3</td>\n",
       "    </tr>\n",
       "  </tbody>\n",
       "</table>\n",
       "</div>"
      ],
      "text/plain": [
       "        Penghasilan\n",
       "Rendah            9\n",
       "Tiada             4\n",
       "Tinggi            3\n",
       "Sedang            3"
      ]
     },
     "execution_count": 18,
     "metadata": {},
     "output_type": "execute_result"
    }
   ],
   "source": [
    "penghasilan = data[\"Penghasilan\"].value_counts()\n",
    "pd.DataFrame(penghasilan)"
   ]
  },
  {
   "attachments": {},
   "cell_type": "markdown",
   "metadata": {},
   "source": [
    "Pada tabel diatas adalah untuk menentukan berapa jumlah orang yang berpenghasilan, ada yang tidak berpenghasilan, penghasilan rendah, penghasilan sedang dan penghasilan tinggi."
   ]
  },
  {
   "cell_type": "code",
   "execution_count": 19,
   "metadata": {},
   "outputs": [
    {
     "data": {
      "image/png": "[encoded data removed]",
      "text/plain": [
       "<Figure size 640x480 with 1 Axes>"
      ]
     },
     "metadata": {},
     "output_type": "display_data"
    }
   ],
   "source": [
    "diagramPenghasilan = diagram(penghasilan, 'Kategori Penghasilan', 'Jumlah Orang', 'Diagram Penghasilan')"
   ]
  },
  {
   "attachments": {},
   "cell_type": "markdown",
   "metadata": {},
   "source": [
    "Pada gambar diatas adakah hasil dari tampilan diagram batang berdasarkan masyarakat yang memiliki kategori penghasilan yang berbeda-beda."
   ]
  },
  {
   "attachments": {},
   "cell_type": "markdown",
   "metadata": {},
   "source": [
    "### Probabilitas dari Kelas Miskin dan Tidak Miskin"
   ]
  },
  {
   "cell_type": "code",
   "execution_count": 20,
   "metadata": {},
   "outputs": [
    {
     "data": {
      "text/html": [
       "<div>\n",
       "<style scoped>\n",
       "    .dataframe tbody tr th:only-of-type {\n",
       "        vertical-align: middle;\n",
       "    }\n",
       "\n",
       "    .dataframe tbody tr th {\n",
       "        vertical-align: top;\n",
       "    }\n",
       "\n",
       "    .dataframe thead th {\n",
       "        text-align: right;\n",
       "    }\n",
       "</style>\n",
       "<table border=\"1\" class=\"dataframe\">\n",
       "  <thead>\n",
       "    <tr style=\"text-align: right;\">\n",
       "      <th></th>\n",
       "      <th>Actual_Class</th>\n",
       "    </tr>\n",
       "  </thead>\n",
       "  <tbody>\n",
       "    <tr>\n",
       "      <th>1</th>\n",
       "      <td>0.736842</td>\n",
       "    </tr>\n",
       "    <tr>\n",
       "      <th>0</th>\n",
       "      <td>0.263158</td>\n",
       "    </tr>\n",
       "  </tbody>\n",
       "</table>\n",
       "</div>"
      ],
      "text/plain": [
       "   Actual_Class\n",
       "1      0.736842\n",
       "0      0.263158"
      ]
     },
     "execution_count": 20,
     "metadata": {},
     "output_type": "execute_result"
    }
   ],
   "source": [
    "jumlah_kategori = data['Actual_Class'].value_counts()\n",
    "total_data = len(data['Actual_Class'])\n",
    "probabilitas = jumlah_kategori / total_daata\n",
    "pd.DataFrame(probabilitas)"
   ]
  },
  {
   "attachments": {},
   "cell_type": "markdown",
   "metadata": {},
   "source": [
    "Pada tabel diatas adalah tampilan probabilitas dari kelas miskin dan tidak miskin berdasarkan hasil dari actua classnya terdapat dalam dataset."
   ]
  },
  {
   "cell_type": "code",
   "execution_count": 21,
   "metadata": {},
   "outputs": [
    {
     "data": {
      "image/png": "[encoded data removed]",
      "text/plain": [
       "<Figure size 640x480 with 1 Axes>"
      ]
     },
     "metadata": {},
     "output_type": "display_data"
    }
   ],
   "source": [
    "diagramprobabilitas = diagram(probabilitas, 'Kategori Kelas', 'probabilitas', 'Diagram Probabilitas Actuall Class')"
   ]
  },
  {
   "attachments": {},
   "cell_type": "markdown",
   "metadata": {},
   "source": [
    "Pada gambar diatas adalah tampilan diagram batang hasil dari probabilitas berdasarkan actuall classnya, (miskin dan tidak miskin)."
   ]
  },
  {
   "attachments": {},
   "cell_type": "markdown",
   "metadata": {},
   "source": [
    "## DATA TESTING"
   ]
  },
  {
   "cell_type": "code",
   "execution_count": 22,
   "metadata": {},
   "outputs": [
    {
     "data": {
      "text/html": [
       "<div>\n",
       "<style scoped>\n",
       "    .dataframe tbody tr th:only-of-type {\n",
       "        vertical-align: middle;\n",
       "    }\n",
       "\n",
       "    .dataframe tbody tr th {\n",
       "        vertical-align: top;\n",
       "    }\n",
       "\n",
       "    .dataframe thead th {\n",
       "        text-align: right;\n",
       "    }\n",
       "</style>\n",
       "<table border=\"1\" class=\"dataframe\">\n",
       "  <thead>\n",
       "    <tr style=\"text-align: right;\">\n",
       "      <th></th>\n",
       "      <th>Umur</th>\n",
       "      <th>Status</th>\n",
       "      <th>Pendidikan</th>\n",
       "      <th>Pekerjaan</th>\n",
       "      <th>Penghasilan</th>\n",
       "      <th>Tanggungan</th>\n",
       "    </tr>\n",
       "  </thead>\n",
       "  <tbody>\n",
       "    <tr>\n",
       "      <th>0</th>\n",
       "      <td>Tua</td>\n",
       "      <td>Kawin</td>\n",
       "      <td>Sarjana</td>\n",
       "      <td>Aparatur Negara</td>\n",
       "      <td>Tinggi</td>\n",
       "      <td>2</td>\n",
       "    </tr>\n",
       "    <tr>\n",
       "      <th>1</th>\n",
       "      <td>Muda</td>\n",
       "      <td>Belum Kawin</td>\n",
       "      <td>SLTA</td>\n",
       "      <td>Pedagang</td>\n",
       "      <td>Rendah</td>\n",
       "      <td>0</td>\n",
       "    </tr>\n",
       "    <tr>\n",
       "      <th>2</th>\n",
       "      <td>Muda</td>\n",
       "      <td>Belum Kawin</td>\n",
       "      <td>SD</td>\n",
       "      <td>Petani</td>\n",
       "      <td>Rendah</td>\n",
       "      <td>1</td>\n",
       "    </tr>\n",
       "    <tr>\n",
       "      <th>3</th>\n",
       "      <td>Tua</td>\n",
       "      <td>Cerai</td>\n",
       "      <td>Tidak Sekolah</td>\n",
       "      <td>Tiada</td>\n",
       "      <td>Sedang</td>\n",
       "      <td>3</td>\n",
       "    </tr>\n",
       "    <tr>\n",
       "      <th>4</th>\n",
       "      <td>Muda</td>\n",
       "      <td>Kawin</td>\n",
       "      <td>SLTP</td>\n",
       "      <td>Buruh Lepas</td>\n",
       "      <td>Sedang</td>\n",
       "      <td>2</td>\n",
       "    </tr>\n",
       "    <tr>\n",
       "      <th>5</th>\n",
       "      <td>Tua</td>\n",
       "      <td>Kawin</td>\n",
       "      <td>Sarjana</td>\n",
       "      <td>Pedagang</td>\n",
       "      <td>Tinggi</td>\n",
       "      <td>4</td>\n",
       "    </tr>\n",
       "    <tr>\n",
       "      <th>6</th>\n",
       "      <td>Muda</td>\n",
       "      <td>Belum Kawin</td>\n",
       "      <td>SLTA</td>\n",
       "      <td>Aparatur Negara</td>\n",
       "      <td>Sedang</td>\n",
       "      <td>1</td>\n",
       "    </tr>\n",
       "    <tr>\n",
       "      <th>7</th>\n",
       "      <td>Tua</td>\n",
       "      <td>Cerai</td>\n",
       "      <td>SD</td>\n",
       "      <td>Tiada</td>\n",
       "      <td>Rendah</td>\n",
       "      <td>0</td>\n",
       "    </tr>\n",
       "    <tr>\n",
       "      <th>8</th>\n",
       "      <td>Muda</td>\n",
       "      <td>Belum Kawin</td>\n",
       "      <td>Sarjana</td>\n",
       "      <td>Petani</td>\n",
       "      <td>Sedang</td>\n",
       "      <td>2</td>\n",
       "    </tr>\n",
       "    <tr>\n",
       "      <th>9</th>\n",
       "      <td>Tua</td>\n",
       "      <td>Kawin</td>\n",
       "      <td>SLTA</td>\n",
       "      <td>Buruh Lepas</td>\n",
       "      <td>Tinggi</td>\n",
       "      <td>5</td>\n",
       "    </tr>\n",
       "  </tbody>\n",
       "</table>\n",
       "</div>"
      ],
      "text/plain": [
       "   Umur       Status     Pendidikan        Pekerjaan Penghasilan  Tanggungan\n",
       "0   Tua        Kawin        Sarjana  Aparatur Negara      Tinggi           2\n",
       "1  Muda  Belum Kawin           SLTA         Pedagang      Rendah           0\n",
       "2  Muda  Belum Kawin             SD           Petani      Rendah           1\n",
       "3   Tua        Cerai  Tidak Sekolah            Tiada      Sedang           3\n",
       "4  Muda        Kawin           SLTP      Buruh Lepas      Sedang           2\n",
       "5   Tua        Kawin        Sarjana         Pedagang      Tinggi           4\n",
       "6  Muda  Belum Kawin           SLTA  Aparatur Negara      Sedang           1\n",
       "7   Tua        Cerai             SD            Tiada      Rendah           0\n",
       "8  Muda  Belum Kawin        Sarjana           Petani      Sedang           2\n",
       "9   Tua        Kawin           SLTA      Buruh Lepas      Tinggi           5"
      ]
     },
     "execution_count": 22,
     "metadata": {},
     "output_type": "execute_result"
    }
   ],
   "source": [
    "X_pred = pd.read_excel('dataTesting.xlsx')\n",
    "X_pred"
   ]
  },
  {
   "attachments": {},
   "cell_type": "markdown",
   "metadata": {},
   "source": [
    "pada tabel diatas merupakan data testing yang akan digunakan pada perhitungan naive bayes classifier ini.pada perhitungan ini akan menggunakan 10 data training yang akan ditentukan actual class dari masing-masing data."
   ]
  },
  {
   "attachments": {},
   "cell_type": "markdown",
   "metadata": {},
   "source": [
    "## PERHITUNGAN DATA TESTING"
   ]
  },
  {
   "cell_type": "code",
   "execution_count": 23,
   "metadata": {},
   "outputs": [
    {
     "data": {
      "text/plain": [
       "((15, 6), (4, 6), (15,), (4,))"
      ]
     },
     "execution_count": 23,
     "metadata": {},
     "output_type": "execute_result"
    }
   ],
   "source": [
    "X = data.drop(columns='Actual_Class')\n",
    "Y = data.Actual_Class\n",
    "X_train, X_test, Y_train, Y_test = train_test_split(X, Y, test_size=0.2, random_state=42)\n",
    "\n",
    "X_train.shape, X_test.shape, Y_train.shape, Y_test.shape"
   ]
  },
  {
   "attachments": {},
   "cell_type": "markdown",
   "metadata": {},
   "source": [
    "Pada code diatas merupakan code untuk membagi data training dan juga data testing dengan 20% dari dataset akan dialokasikan sebagai subset pengujian, sementara 80% sisanya akan menjadi subset pelatihan."
   ]
  },
  {
   "cell_type": "code",
   "execution_count": 24,
   "metadata": {},
   "outputs": [],
   "source": [
    "preprocessor = ColumnTransformer([\n",
    "    ('numeric', num_pipe(),['Tanggungan'] ),\n",
    "    ('categoric', cat_pipe(encoder='onehot'), ['Umur', 'Status', 'Pendidikan', 'Pekerjaan', 'Penghasilan'] ),\n",
    "])"
   ]
  },
  {
   "attachments": {},
   "cell_type": "markdown",
   "metadata": {},
   "source": [
    "pada code diatas merupakan langkah untuk mengubah kolom kategorical menjadi kolom numeric dengan encoder onehot. yang akan dijadikan kolom numeric merupakan kolom-kolom yang masih menjadi kolom kategorical."
   ]
  },
  {
   "cell_type": "code",
   "execution_count": 25,
   "metadata": {},
   "outputs": [],
   "source": [
    "pipeline = Pipeline([\n",
    "    ('prep', preprocessor),\n",
    "    ('algo', GaussianNB())\n",
    "])"
   ]
  },
  {
   "attachments": {},
   "cell_type": "markdown",
   "metadata": {},
   "source": [
    "Pada code diatas digunakan untuk membuat object gaussianNB yang digunakan untuk perhitungan algoritma naive bayes. pipeline digunakan untuk menjadi satukan antara preprocessor dan model untuk mempermudah perhitungan data training."
   ]
  },
  {
   "cell_type": "code",
   "execution_count": 26,
   "metadata": {},
   "outputs": [
    {
     "data": {
      "text/plain": [
       "Pipeline(steps=[('prep',\n",
       "                 ColumnTransformer(transformers=[('numeric',\n",
       "                                                  Pipeline(steps=[('imputer',\n",
       "                                                                   SimpleImputer(strategy='median'))]),\n",
       "                                                  ['Tanggungan']),\n",
       "                                                 ('categoric',\n",
       "                                                  Pipeline(steps=[('imputer',\n",
       "                                                                   SimpleImputer(strategy='most_frequent')),\n",
       "                                                                  ('onehot',\n",
       "                                                                   OneHotEncoder(handle_unknown='ignore'))]),\n",
       "                                                  ['Umur', 'Status',\n",
       "                                                   'Pendidikan', 'Pekerjaan',\n",
       "                                                   'Penghasilan'])])),\n",
       "                ('algo', GaussianNB())])"
      ]
     },
     "execution_count": 26,
     "metadata": {},
     "output_type": "execute_result"
    }
   ],
   "source": [
    "pipeline.fit(X_train, Y_train)"
   ]
  },
  {
   "attachments": {},
   "cell_type": "markdown",
   "metadata": {},
   "source": [
    "pada code diatas merupakan code untuk melatih fitur-fitur yang telah melewati praprosesing."
   ]
  },
  {
   "cell_type": "code",
   "execution_count": 27,
   "metadata": {},
   "outputs": [
    {
     "data": {
      "text/plain": [
       "1.0"
      ]
     },
     "execution_count": 27,
     "metadata": {},
     "output_type": "execute_result"
    }
   ],
   "source": [
    "pipeline.score(X_train, Y_train)"
   ]
  },
  {
   "attachments": {},
   "cell_type": "markdown",
   "metadata": {},
   "source": [
    "Pada tampilan diatas adalah hasil/skor menggunakan library pipeline dari data berdasarkan actuall class yang telah dihitung sesuai dengan kondisinya."
   ]
  },
  {
   "cell_type": "code",
   "execution_count": 28,
   "metadata": {},
   "outputs": [
    {
     "data": {
      "text/plain": [
       "0.75"
      ]
     },
     "execution_count": 28,
     "metadata": {},
     "output_type": "execute_result"
    }
   ],
   "source": [
    "pipeline.score(X_test, Y_test)"
   ]
  },
  {
   "attachments": {},
   "cell_type": "markdown",
   "metadata": {},
   "source": [
    "Pada tampilan diatas adalah hasil/skor menggunakan library pipeline dari data berdasarkan actuall class yang telah dihitung sesuai dengan kondisinya."
   ]
  },
  {
   "cell_type": "code",
   "execution_count": 29,
   "metadata": {},
   "outputs": [
    {
     "data": {
      "image/png": "[encoded data removed]",
      "text/plain": [
       "<Figure size 1100x500 with 2 Axes>"
      ]
     },
     "metadata": {},
     "output_type": "display_data"
    }
   ],
   "source": [
    "plot_confusion_matrix(X_train, Y_train, X_test, Y_test, pipeline)"
   ]
  },
  {
   "attachments": {},
   "cell_type": "markdown",
   "metadata": {},
   "source": [
    "Pada gambar diatas adalah tampilan sesuai dengan hasil plot-plot yang telah dihitung menggunakan matriks dengan bantuan library yang digunakan. pada train score memiliki nilai 1.00 yang menandakan bahwa tidak terdapat error atau salah prediksi dalam train score tersebut pada train score nilai actual 0 dengan prediksi 0 tidak terdapat error menandakan prediksi 0 benar semua, sedangkan pada nilai actual 1 dengan prediksi 1 juga tidak terdapat erorr atau salah prediksi. pada test score memiliki nilai 0.750 yang menandakan terdapat beberapa erorr dari prediksinya, pada nilai actual 0 terdapat kesalahan prediksi pada nilai actual 0 yang seharusnya 0 menjadi 1 sehingga menandakan terdapat kesalahan prediksi pada nilai actual 0.sedangkan pada nilai actual 1 tidak terdapat error atau kesalahan prediksi."
   ]
  },
  {
   "attachments": {},
   "cell_type": "markdown",
   "metadata": {},
   "source": [
    "# HASIL PERHITUNGAN DATA TESTING"
   ]
  },
  {
   "cell_type": "code",
   "execution_count": 30,
   "metadata": {},
   "outputs": [
    {
     "data": {
      "text/html": [
       "<div>\n",
       "<style scoped>\n",
       "    .dataframe tbody tr th:only-of-type {\n",
       "        vertical-align: middle;\n",
       "    }\n",
       "\n",
       "    .dataframe tbody tr th {\n",
       "        vertical-align: top;\n",
       "    }\n",
       "\n",
       "    .dataframe thead th {\n",
       "        text-align: right;\n",
       "    }\n",
       "</style>\n",
       "<table border=\"1\" class=\"dataframe\">\n",
       "  <thead>\n",
       "    <tr style=\"text-align: right;\">\n",
       "      <th></th>\n",
       "      <th>Umur</th>\n",
       "      <th>Status</th>\n",
       "      <th>Pendidikan</th>\n",
       "      <th>Pekerjaan</th>\n",
       "      <th>Penghasilan</th>\n",
       "      <th>Tanggungan</th>\n",
       "      <th>Actual_Class</th>\n",
       "    </tr>\n",
       "  </thead>\n",
       "  <tbody>\n",
       "    <tr>\n",
       "      <th>0</th>\n",
       "      <td>Tua</td>\n",
       "      <td>Kawin</td>\n",
       "      <td>Sarjana</td>\n",
       "      <td>Aparatur Negara</td>\n",
       "      <td>Tinggi</td>\n",
       "      <td>2</td>\n",
       "      <td>0</td>\n",
       "    </tr>\n",
       "    <tr>\n",
       "      <th>1</th>\n",
       "      <td>Muda</td>\n",
       "      <td>Belum Kawin</td>\n",
       "      <td>SLTA</td>\n",
       "      <td>Pedagang</td>\n",
       "      <td>Rendah</td>\n",
       "      <td>0</td>\n",
       "      <td>1</td>\n",
       "    </tr>\n",
       "    <tr>\n",
       "      <th>2</th>\n",
       "      <td>Muda</td>\n",
       "      <td>Belum Kawin</td>\n",
       "      <td>SD</td>\n",
       "      <td>Petani</td>\n",
       "      <td>Rendah</td>\n",
       "      <td>1</td>\n",
       "      <td>1</td>\n",
       "    </tr>\n",
       "    <tr>\n",
       "      <th>3</th>\n",
       "      <td>Tua</td>\n",
       "      <td>Cerai</td>\n",
       "      <td>Tidak Sekolah</td>\n",
       "      <td>Tiada</td>\n",
       "      <td>Sedang</td>\n",
       "      <td>3</td>\n",
       "      <td>1</td>\n",
       "    </tr>\n",
       "    <tr>\n",
       "      <th>4</th>\n",
       "      <td>Muda</td>\n",
       "      <td>Kawin</td>\n",
       "      <td>SLTP</td>\n",
       "      <td>Buruh Lepas</td>\n",
       "      <td>Sedang</td>\n",
       "      <td>2</td>\n",
       "      <td>1</td>\n",
       "    </tr>\n",
       "    <tr>\n",
       "      <th>5</th>\n",
       "      <td>Tua</td>\n",
       "      <td>Kawin</td>\n",
       "      <td>Sarjana</td>\n",
       "      <td>Pedagang</td>\n",
       "      <td>Tinggi</td>\n",
       "      <td>4</td>\n",
       "      <td>0</td>\n",
       "    </tr>\n",
       "    <tr>\n",
       "      <th>6</th>\n",
       "      <td>Muda</td>\n",
       "      <td>Belum Kawin</td>\n",
       "      <td>SLTA</td>\n",
       "      <td>Aparatur Negara</td>\n",
       "      <td>Sedang</td>\n",
       "      <td>1</td>\n",
       "      <td>1</td>\n",
       "    </tr>\n",
       "    <tr>\n",
       "      <th>7</th>\n",
       "      <td>Tua</td>\n",
       "      <td>Cerai</td>\n",
       "      <td>SD</td>\n",
       "      <td>Tiada</td>\n",
       "      <td>Rendah</td>\n",
       "      <td>0</td>\n",
       "      <td>1</td>\n",
       "    </tr>\n",
       "    <tr>\n",
       "      <th>8</th>\n",
       "      <td>Muda</td>\n",
       "      <td>Belum Kawin</td>\n",
       "      <td>Sarjana</td>\n",
       "      <td>Petani</td>\n",
       "      <td>Sedang</td>\n",
       "      <td>2</td>\n",
       "      <td>0</td>\n",
       "    </tr>\n",
       "    <tr>\n",
       "      <th>9</th>\n",
       "      <td>Tua</td>\n",
       "      <td>Kawin</td>\n",
       "      <td>SLTA</td>\n",
       "      <td>Buruh Lepas</td>\n",
       "      <td>Tinggi</td>\n",
       "      <td>5</td>\n",
       "      <td>1</td>\n",
       "    </tr>\n",
       "  </tbody>\n",
       "</table>\n",
       "</div>"
      ],
      "text/plain": [
       "   Umur       Status     Pendidikan        Pekerjaan Penghasilan  Tanggungan  \\\n",
       "0   Tua        Kawin        Sarjana  Aparatur Negara      Tinggi           2   \n",
       "1  Muda  Belum Kawin           SLTA         Pedagang      Rendah           0   \n",
       "2  Muda  Belum Kawin             SD           Petani      Rendah           1   \n",
       "3   Tua        Cerai  Tidak Sekolah            Tiada      Sedang           3   \n",
       "4  Muda        Kawin           SLTP      Buruh Lepas      Sedang           2   \n",
       "5   Tua        Kawin        Sarjana         Pedagang      Tinggi           4   \n",
       "6  Muda  Belum Kawin           SLTA  Aparatur Negara      Sedang           1   \n",
       "7   Tua        Cerai             SD            Tiada      Rendah           0   \n",
       "8  Muda  Belum Kawin        Sarjana           Petani      Sedang           2   \n",
       "9   Tua        Kawin           SLTA      Buruh Lepas      Tinggi           5   \n",
       "\n",
       "   Actual_Class  \n",
       "0             0  \n",
       "1             1  \n",
       "2             1  \n",
       "3             1  \n",
       "4             1  \n",
       "5             0  \n",
       "6             1  \n",
       "7             1  \n",
       "8             0  \n",
       "9             1  "
      ]
     },
     "execution_count": 30,
     "metadata": {},
     "output_type": "execute_result"
    }
   ],
   "source": [
    "X_pred['Actual_Class'] = pipeline.predict(X_pred)\n",
    "X_pred"
   ]
  },
  {
   "attachments": {},
   "cell_type": "markdown",
   "metadata": {},
   "source": [
    "pada tabel diatas merupakan tabel hsil perhitungan dari data testing dan telah ditemukan nilai actual class dari masing-masing data yang telah hitung dengan perhitungan naive bayes classifier."
   ]
  }
 ],
 "metadata": {
  "kernelspec": {
   "display_name": "Python 3",
   "language": "python",
   "name": "python3"
  },
  "language_info": {
   "codemirror_mode": {
    "name": "ipython",
    "version": 3
   },
   "file_extension": ".py",
   "mimetype": "text/x-python",
   "name": "python",
   "nbconvert_exporter": "python",
   "pygments_lexer": "ipython3",
   "version": "3.9.13"
  },
  "orig_nbformat": 4
 },
 "nbformat": 4,
 "nbformat_minor": 2
}
